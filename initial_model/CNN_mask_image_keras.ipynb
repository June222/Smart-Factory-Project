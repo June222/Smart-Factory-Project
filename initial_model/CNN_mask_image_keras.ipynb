{
  "nbformat": 4,
  "nbformat_minor": 0,
  "metadata": {
    "colab": {
      "provenance": [],
      "gpuType": "T4",
      "collapsed_sections": [
        "4GtnkU8F2Q_G",
        "95UFrvCbMJvj"
      ]
    },
    "kernelspec": {
      "name": "python3",
      "display_name": "Python 3"
    },
    "language_info": {
      "name": "python"
    },
    "accelerator": "GPU"
  },
  "cells": [
    {
      "cell_type": "markdown",
      "source": [
        "# 0. Import library\n"
      ],
      "metadata": {
        "id": "4GtnkU8F2Q_G"
      }
    },
    {
      "cell_type": "code",
      "execution_count": 1,
      "metadata": {
        "id": "jGZZpbySB0nX"
      },
      "outputs": [],
      "source": [
        "import pandas as pd\n",
        "import numpy as np\n",
        "from matplotlib import pyplot as plt\n",
        "from PIL import Image\n",
        "import seaborn as sns\n",
        "import warnings\n",
        "from tqdm import tqdm\n",
        "import cv2\n",
        "from sklearn.model_selection import train_test_split\n",
        "from sklearn.preprocessing import OneHotEncoder,LabelEncoder\n",
        "import tensorflow as tf\n",
        "import keras\n",
        "from keras.utils import to_categorical\n",
        "from keras.models import Sequential\n",
        "from keras.layers import Dense,Conv2D,Flatten,MaxPooling2D,Dropout"
      ]
    },
    {
      "cell_type": "markdown",
      "source": [
        "# 1. Load Data"
      ],
      "metadata": {
        "id": "24EH373l5orW"
      }
    },
    {
      "cell_type": "code",
      "source": [
        "# 코랩에서 구글 드라이브 접근\n",
        "from google.colab import drive\n",
        "drive.mount('/content/drive')"
      ],
      "metadata": {
        "colab": {
          "base_uri": "https://localhost:8080/"
        },
        "id": "hFeJG-nN6Ssv",
        "outputId": "a4b73f22-0260-44c7-86f7-026019015d34"
      },
      "execution_count": 2,
      "outputs": [
        {
          "output_type": "stream",
          "name": "stdout",
          "text": [
            "Mounted at /content/drive\n"
          ]
        }
      ]
    },
    {
      "cell_type": "code",
      "source": [
        "path = \"/content/drive/MyDrive/졸업과제/severstal-steel-defect-detection/\""
      ],
      "metadata": {
        "id": "Wh52pXXfNz01"
      },
      "execution_count": 3,
      "outputs": []
    },
    {
      "cell_type": "code",
      "source": [
        "# 데이터 불러오기\n",
        "train_df = pd.read_csv(path+\"train.csv\")"
      ],
      "metadata": {
        "id": "asPl4Vyb5r2_"
      },
      "execution_count": 5,
      "outputs": []
    },
    {
      "cell_type": "code",
      "source": [
        "l1=[]\n",
        "l2=[]\n",
        "for img,ClassId,EncodedPixels in tqdm(train_df.values):\n",
        "    image=cv2.imread(path+\"mask_train_images/{}\".format(img),cv2.IMREAD_COLOR)\n",
        "    image=cv2.resize(image,(120,120))\n",
        "    l1.append(image)\n",
        "    l2.append(ClassId)\n"
      ],
      "metadata": {
        "colab": {
          "base_uri": "https://localhost:8080/"
        },
        "id": "HqGaDb-m8eDX",
        "outputId": "0c2cb820-99fe-4a99-ac28-9a5cda6b7dcc"
      },
      "execution_count": 6,
      "outputs": [
        {
          "output_type": "stream",
          "name": "stderr",
          "text": [
            "100%|██████████| 7095/7095 [1:08:11<00:00,  1.73it/s]\n"
          ]
        }
      ]
    },
    {
      "cell_type": "code",
      "source": [
        "plt.imshow(l1[16])"
      ],
      "metadata": {
        "colab": {
          "base_uri": "https://localhost:8080/",
          "height": 452
        },
        "id": "W1thHgZl9R-m",
        "outputId": "46b38ce0-528c-433a-e5e8-99cd3df8e2c0"
      },
      "execution_count": 7,
      "outputs": [
        {
          "output_type": "execute_result",
          "data": {
            "text/plain": [
              "<matplotlib.image.AxesImage at 0x7f01ca9365f0>"
            ]
          },
          "metadata": {},
          "execution_count": 7
        },
        {
          "output_type": "display_data",
          "data": {
            "text/plain": [
              "<Figure size 640x480 with 1 Axes>"
            ],
            "image/png": "[encoded data removed]"
          },
          "metadata": {}
        }
      ]
    },
    {
      "cell_type": "markdown",
      "source": [
        "Label encoding the input features and one hot encoding the target feature."
      ],
      "metadata": {
        "id": "E65ZXziu9oRJ"
      }
    },
    {
      "cell_type": "code",
      "source": [
        "encoder = LabelEncoder()\n",
        "\n",
        "X= np.array(l1)\n",
        "X = X/255\n",
        "\n",
        "y = encoder.fit_transform(l2)\n",
        "y = to_categorical(y)"
      ],
      "metadata": {
        "id": "ZFTvJGQD9t1K"
      },
      "execution_count": 8,
      "outputs": []
    },
    {
      "cell_type": "markdown",
      "source": [
        "Splitting the data into 80% train set and 20% test set"
      ],
      "metadata": {
        "id": "mwlLMCcJ9wb0"
      }
    },
    {
      "cell_type": "code",
      "source": [
        "X_train,X_test,y_train,y_test=train_test_split(X,y,test_size=0.2,stratify=y,shuffle=True)"
      ],
      "metadata": {
        "id": "OxD_jWX_9yJu"
      },
      "execution_count": 9,
      "outputs": []
    },
    {
      "cell_type": "code",
      "source": [
        "print(\"x_train shape:\",X_train.shape)\n",
        "print(\"x_test shape:\",X_test.shape)\n",
        "print(\"y_train shape:\",y_train.shape)\n",
        "print(\"y_test shape:\",y_test.shape)"
      ],
      "metadata": {
        "colab": {
          "base_uri": "https://localhost:8080/"
        },
        "id": "Qxi1tGG9900B",
        "outputId": "020be26c-fa59-40e2-b7b9-2f4f5029f8bc"
      },
      "execution_count": 10,
      "outputs": [
        {
          "output_type": "stream",
          "name": "stdout",
          "text": [
            "x_train shape: (5676, 120, 120, 3)\n",
            "x_test shape: (1419, 120, 120, 3)\n",
            "y_train shape: (5676, 4)\n",
            "y_test shape: (1419, 4)\n"
          ]
        }
      ]
    },
    {
      "cell_type": "markdown",
      "source": [
        "# 3. CNN\n"
      ],
      "metadata": {
        "id": "L1B_NL-893Qi"
      }
    },
    {
      "cell_type": "markdown",
      "source": [
        "[참고 자료](https://www.kaggle.com/code/ratul6/steel-defect-detection-using-cnn) <br>\n",
        "\n",
        "Building the CNN Model"
      ],
      "metadata": {
        "id": "O3evBq1897Mo"
      }
    },
    {
      "cell_type": "code",
      "source": [
        "img_shape = (120,120,3)\n",
        "\n",
        "# Set up the model\n",
        "model=Sequential()\n",
        "model.add(Conv2D(32,kernel_size=(3,3), strides=(1, 1), padding=\"same\", activation=\"relu\",input_shape=img_shape))\n",
        "model.add(MaxPooling2D(pool_size=(3,3), strides=(2, 2)))\n",
        "model.add(Conv2D(64,(3,3),activation=\"relu\", padding=\"same\"))\n",
        "model.add(MaxPooling2D(pool_size=(3,3)))\n",
        "model.add(Conv2D(64,(3,3),activation=\"relu\", padding=\"same\"))\n",
        "model.add(MaxPooling2D(pool_size=(4,4)))\n",
        "model.add(Flatten())\n",
        "model.add(Dense(128,activation=\"relu\"))\n",
        "model.add(Dropout(0.3))\n",
        "model.add(Dense(128,activation=\"relu\"))\n",
        "model.add(Dropout(0.3))\n",
        "model.add(Dense(256,activation=\"relu\"))\n",
        "model.add(Dense(4,activation=\"softmax\"))\n",
        "model.summary()"
      ],
      "metadata": {
        "colab": {
          "base_uri": "https://localhost:8080/"
        },
        "id": "YJaa0RFm97-5",
        "outputId": "32aab1ba-5806-4543-9d62-e106aec53678"
      },
      "execution_count": 11,
      "outputs": [
        {
          "output_type": "stream",
          "name": "stdout",
          "text": [
            "Model: \"sequential\"\n",
            "_________________________________________________________________\n",
            " Layer (type)                Output Shape              Param #   \n",
            "=================================================================\n",
            " conv2d (Conv2D)             (None, 120, 120, 32)      896       \n",
            "                                                                 \n",
            " max_pooling2d (MaxPooling2D  (None, 59, 59, 32)       0         \n",
            " )                                                               \n",
            "                                                                 \n",
            " conv2d_1 (Conv2D)           (None, 59, 59, 64)        18496     \n",
            "                                                                 \n",
            " max_pooling2d_1 (MaxPooling  (None, 19, 19, 64)       0         \n",
            " 2D)                                                             \n",
            "                                                                 \n",
            " conv2d_2 (Conv2D)           (None, 19, 19, 64)        36928     \n",
            "                                                                 \n",
            " max_pooling2d_2 (MaxPooling  (None, 4, 4, 64)         0         \n",
            " 2D)                                                             \n",
            "                                                                 \n",
            " flatten (Flatten)           (None, 1024)              0         \n",
            "                                                                 \n",
            " dense (Dense)               (None, 128)               131200    \n",
            "                                                                 \n",
            " dropout (Dropout)           (None, 128)               0         \n",
            "                                                                 \n",
            " dense_1 (Dense)             (None, 128)               16512     \n",
            "                                                                 \n",
            " dropout_1 (Dropout)         (None, 128)               0         \n",
            "                                                                 \n",
            " dense_2 (Dense)             (None, 256)               33024     \n",
            "                                                                 \n",
            " dense_3 (Dense)             (None, 4)                 1028      \n",
            "                                                                 \n",
            "=================================================================\n",
            "Total params: 238,084\n",
            "Trainable params: 238,084\n",
            "Non-trainable params: 0\n",
            "_________________________________________________________________\n"
          ]
        }
      ]
    },
    {
      "cell_type": "code",
      "source": [
        "early_stopping = tf.keras.callbacks.EarlyStopping(patience=5,min_delta=0.001,restore_best_weights=True)"
      ],
      "metadata": {
        "id": "yg0lXXnc9_Br"
      },
      "execution_count": 12,
      "outputs": []
    },
    {
      "cell_type": "markdown",
      "source": [
        "Compiling the model"
      ],
      "metadata": {
        "id": "MJnlmppG-H1f"
      }
    },
    {
      "cell_type": "code",
      "source": [
        "model.compile(loss=keras.losses.categorical_crossentropy,\n",
        "             optimizer=keras.optimizers.Adam(),\n",
        "             metrics=[\"accuracy\"])"
      ],
      "metadata": {
        "id": "VSZAUs3v-FSe"
      },
      "execution_count": 13,
      "outputs": []
    },
    {
      "cell_type": "markdown",
      "source": [
        "Fitting the model"
      ],
      "metadata": {
        "id": "SLwzPXdr-Kpc"
      }
    },
    {
      "cell_type": "code",
      "source": [
        "history = model.fit(X_train,y_train,epochs=15,validation_data=(X_test,y_test),batch_size=128,\n",
        "                    verbose=1, callbacks=[early_stopping])"
      ],
      "metadata": {
        "colab": {
          "base_uri": "https://localhost:8080/"
        },
        "id": "EXyGeqym-LIs",
        "outputId": "9a329ec6-ef0d-4adf-cc5e-ac549ebaafa0"
      },
      "execution_count": 14,
      "outputs": [
        {
          "output_type": "stream",
          "name": "stdout",
          "text": [
            "Epoch 1/15\n",
            "45/45 [==============================] - 14s 100ms/step - loss: 0.8738 - accuracy: 0.7146 - val_loss: 0.7884 - val_accuracy: 0.7259\n",
            "Epoch 2/15\n",
            "45/45 [==============================] - 2s 52ms/step - loss: 0.7445 - accuracy: 0.7259 - val_loss: 0.6763 - val_accuracy: 0.7252\n",
            "Epoch 3/15\n",
            "45/45 [==============================] - 2s 49ms/step - loss: 0.6215 - accuracy: 0.7401 - val_loss: 0.6069 - val_accuracy: 0.7562\n",
            "Epoch 4/15\n",
            "45/45 [==============================] - 2s 48ms/step - loss: 0.5723 - accuracy: 0.7521 - val_loss: 0.5639 - val_accuracy: 0.7512\n",
            "Epoch 5/15\n",
            "45/45 [==============================] - 2s 49ms/step - loss: 0.5360 - accuracy: 0.7644 - val_loss: 0.5268 - val_accuracy: 0.7689\n",
            "Epoch 6/15\n",
            "45/45 [==============================] - 2s 51ms/step - loss: 0.5132 - accuracy: 0.7717 - val_loss: 0.5166 - val_accuracy: 0.7653\n",
            "Epoch 7/15\n",
            "45/45 [==============================] - 3s 56ms/step - loss: 0.4892 - accuracy: 0.7812 - val_loss: 0.5024 - val_accuracy: 0.7696\n",
            "Epoch 8/15\n",
            "45/45 [==============================] - 2s 50ms/step - loss: 0.4579 - accuracy: 0.7963 - val_loss: 0.5019 - val_accuracy: 0.7724\n",
            "Epoch 9/15\n",
            "45/45 [==============================] - 2s 48ms/step - loss: 0.4457 - accuracy: 0.8050 - val_loss: 0.5255 - val_accuracy: 0.7653\n",
            "Epoch 10/15\n",
            "45/45 [==============================] - 2s 48ms/step - loss: 0.4220 - accuracy: 0.8192 - val_loss: 0.5349 - val_accuracy: 0.7646\n",
            "Epoch 11/15\n",
            "45/45 [==============================] - 2s 51ms/step - loss: 0.4019 - accuracy: 0.8184 - val_loss: 0.5357 - val_accuracy: 0.7745\n",
            "Epoch 12/15\n",
            "45/45 [==============================] - 2s 50ms/step - loss: 0.3750 - accuracy: 0.8316 - val_loss: 0.5527 - val_accuracy: 0.7639\n"
          ]
        }
      ]
    },
    {
      "cell_type": "code",
      "source": [
        "history_df = pd.DataFrame(history.history)\n",
        "history_df.loc[:, ['loss', 'val_loss']].plot(title = 'Loss curve')"
      ],
      "metadata": {
        "colab": {
          "base_uri": "https://localhost:8080/",
          "height": 470
        },
        "id": "OiYiue5TS-Uy",
        "outputId": "f266e71c-2afe-40ae-ff26-8f0e204575c1"
      },
      "execution_count": 15,
      "outputs": [
        {
          "output_type": "execute_result",
          "data": {
            "text/plain": [
              "<Axes: title={'center': 'Loss curve'}>"
            ]
          },
          "metadata": {},
          "execution_count": 15
        },
        {
          "output_type": "display_data",
          "data": {
            "text/plain": [
              "<Figure size 640x480 with 1 Axes>"
            ],
            "image/png": "[encoded data removed]"
          },
          "metadata": {}
        }
      ]
    },
    {
      "cell_type": "code",
      "source": [
        "history_df = pd.DataFrame(history.history)\n",
        "history_df.loc[:, ['accuracy', 'val_accuracy']].plot(title = 'Accuracy curve')"
      ],
      "metadata": {
        "colab": {
          "base_uri": "https://localhost:8080/",
          "height": 470
        },
        "id": "mv104ZtdTNM3",
        "outputId": "84e460dd-e53d-427c-a583-16cdab4e9c73"
      },
      "execution_count": 16,
      "outputs": [
        {
          "output_type": "execute_result",
          "data": {
            "text/plain": [
              "<Axes: title={'center': 'Accuracy curve'}>"
            ]
          },
          "metadata": {},
          "execution_count": 16
        },
        {
          "output_type": "display_data",
          "data": {
            "text/plain": [
              "<Figure size 640x480 with 1 Axes>"
            ],
            "image/png": "[encoded data removed]"
          },
          "metadata": {}
        }
      ]
    },
    {
      "cell_type": "code",
      "source": [
        "result = model.evaluate(X_test, y_test)\n",
        "\n",
        "loss = result[0]\n",
        "accuracy = result[1]\n",
        "print(f\"[+] Accuracy: {accuracy*100:.2f}%\")"
      ],
      "metadata": {
        "colab": {
          "base_uri": "https://localhost:8080/"
        },
        "id": "xEXCsfynTPOS",
        "outputId": "8b83de8d-f31f-4ac1-f8bc-f2af8d290071"
      },
      "execution_count": 17,
      "outputs": [
        {
          "output_type": "stream",
          "name": "stdout",
          "text": [
            "45/45 [==============================] - 1s 8ms/step - loss: 0.5024 - accuracy: 0.7696\n",
            "[+] Accuracy: 76.96%\n"
          ]
        }
      ]
    }
  ]
}